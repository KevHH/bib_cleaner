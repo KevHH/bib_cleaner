{
 "cells": [
  {
   "cell_type": "markdown",
   "metadata": {},
   "source": [
    "# Visualise duplicates"
   ]
  },
  {
   "cell_type": "code",
   "execution_count": 1,
   "metadata": {},
   "outputs": [
    {
     "data": {
      "text/html": [
       "<div>\n",
       "<style scoped>\n",
       "    .dataframe tbody tr th:only-of-type {\n",
       "        vertical-align: middle;\n",
       "    }\n",
       "\n",
       "    .dataframe tbody tr th {\n",
       "        vertical-align: top;\n",
       "    }\n",
       "\n",
       "    .dataframe thead th {\n",
       "        text-align: right;\n",
       "    }\n",
       "</style>\n",
       "<table border=\"1\" class=\"dataframe\">\n",
       "  <thead>\n",
       "    <tr style=\"text-align: right;\">\n",
       "      <th></th>\n",
       "      <th>0</th>\n",
       "      <th>1</th>\n",
       "    </tr>\n",
       "  </thead>\n",
       "  <tbody>\n",
       "    <tr>\n",
       "      <th>0</th>\n",
       "      <td>$K$-Monographs in Mathematics</td>\n",
       "      <td>$K$-Monogr. Math.</td>\n",
       "    </tr>\n",
       "    <tr>\n",
       "      <th>1</th>\n",
       "      <td>$K$-Theory</td>\n",
       "      <td>$K$-Theory</td>\n",
       "    </tr>\n",
       "    <tr>\n",
       "      <th>2</th>\n",
       "      <td>50th Anniversary Cracow University of Technology</td>\n",
       "      <td>50th Anniv. Cracow Univ. Technol. Anniv. Issue</td>\n",
       "    </tr>\n",
       "    <tr>\n",
       "      <th>3</th>\n",
       "      <td>ACM Distinguished Theses</td>\n",
       "      <td>ACM Disting. Theses</td>\n",
       "    </tr>\n",
       "    <tr>\n",
       "      <th>4</th>\n",
       "      <td>Association for Computing Machinery</td>\n",
       "      <td>ACM Trans. Math. Software</td>\n",
       "    </tr>\n",
       "    <tr>\n",
       "      <th>...</th>\n",
       "      <td>...</td>\n",
       "      <td>...</td>\n",
       "    </tr>\n",
       "    <tr>\n",
       "      <th>2326</th>\n",
       "      <td>Theory of Probability \\&amp; Its Applications</td>\n",
       "      <td>Theory Probab. Appl.</td>\n",
       "    </tr>\n",
       "    <tr>\n",
       "      <th>2327</th>\n",
       "      <td>ESAIM: Probability and Statistics</td>\n",
       "      <td>ESAIM Probab. Stat.</td>\n",
       "    </tr>\n",
       "    <tr>\n",
       "      <th>2328</th>\n",
       "      <td>Sankhy{\\=a}: The Indian Journal of Statistics,...</td>\n",
       "      <td>Sankhya A</td>\n",
       "    </tr>\n",
       "    <tr>\n",
       "      <th>2329</th>\n",
       "      <td>Statistics \\&amp; Probability Letters</td>\n",
       "      <td>Statist. Probab. Lett</td>\n",
       "    </tr>\n",
       "    <tr>\n",
       "      <th>2330</th>\n",
       "      <td>IEEE transactions on information theory</td>\n",
       "      <td>IEEE Trans. Inf. Theory</td>\n",
       "    </tr>\n",
       "  </tbody>\n",
       "</table>\n",
       "<p>2331 rows × 2 columns</p>\n",
       "</div>"
      ],
      "text/plain": [
       "                                                      0  \\\n",
       "0                         $K$-Monographs in Mathematics   \n",
       "1                                            $K$-Theory   \n",
       "2      50th Anniversary Cracow University of Technology   \n",
       "3                              ACM Distinguished Theses   \n",
       "4                   Association for Computing Machinery   \n",
       "...                                                 ...   \n",
       "2326          Theory of Probability \\& Its Applications   \n",
       "2327                  ESAIM: Probability and Statistics   \n",
       "2328  Sankhy{\\=a}: The Indian Journal of Statistics,...   \n",
       "2329                  Statistics \\& Probability Letters   \n",
       "2330            IEEE transactions on information theory   \n",
       "\n",
       "                                                   1  \n",
       "0                                  $K$-Monogr. Math.  \n",
       "1                                         $K$-Theory  \n",
       "2     50th Anniv. Cracow Univ. Technol. Anniv. Issue  \n",
       "3                                ACM Disting. Theses  \n",
       "4                          ACM Trans. Math. Software  \n",
       "...                                              ...  \n",
       "2326                            Theory Probab. Appl.  \n",
       "2327                             ESAIM Probab. Stat.  \n",
       "2328                                       Sankhya A  \n",
       "2329                           Statist. Probab. Lett  \n",
       "2330                         IEEE Trans. Inf. Theory  \n",
       "\n",
       "[2331 rows x 2 columns]"
      ]
     },
     "execution_count": 1,
     "metadata": {},
     "output_type": "execute_result"
    }
   ],
   "source": [
    "import pandas as pd\n",
    "df = pd.read_csv('ams.csv', header=None)\n",
    "df"
   ]
  },
  {
   "cell_type": "code",
   "execution_count": 2,
   "metadata": {},
   "outputs": [
    {
     "data": {
      "text/plain": [
       "Series([], Name: 0, dtype: object)"
      ]
     },
     "execution_count": 2,
     "metadata": {},
     "output_type": "execute_result"
    }
   ],
   "source": [
    "df[0][df[0].str.lower().duplicated()]"
   ]
  }
 ],
 "metadata": {
  "kernelspec": {
   "display_name": "tf",
   "language": "python",
   "name": "python3"
  },
  "language_info": {
   "codemirror_mode": {
    "name": "ipython",
    "version": 3
   },
   "file_extension": ".py",
   "mimetype": "text/x-python",
   "name": "python",
   "nbconvert_exporter": "python",
   "pygments_lexer": "ipython3",
   "version": "3.9.7"
  }
 },
 "nbformat": 4,
 "nbformat_minor": 2
}
